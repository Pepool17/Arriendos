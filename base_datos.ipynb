{
 "cells": [
  {
   "cell_type": "code",
   "execution_count": 78,
   "metadata": {},
   "outputs": [],
   "source": [
    "import pandas as pd\n",
    "import psycopg2"
   ]
  },
  {
   "cell_type": "markdown",
   "metadata": {},
   "source": [
    "## Cargar la base de datos"
   ]
  },
  {
   "cell_type": "code",
   "execution_count": 79,
   "metadata": {},
   "outputs": [
    {
     "name": "stdout",
     "output_type": "stream",
     "text": [
      "Conexión exitosa\n",
      "Cerrando sesión\n"
     ]
    }
   ],
   "source": [
    "try:\n",
    "    conn = psycopg2.connect(\n",
    "        host='localhost',\n",
    "        user='postgres',\n",
    "        password='root',\n",
    "        database='arriendos',\n",
    "        port='5432'\n",
    "    )  # type: ignore\n",
    "    print('Conexión exitosa')\n",
    "    cur = conn.cursor()\n",
    "    sql = '''select u.nombre, u.fecha_ingreso, u.precio_pactado, d.departamento, d.id_departamento, \n",
    "            p.mes_pago, p.year_pago, p.monto_pago, p.fecha_pago from usuarios u\n",
    "            join departamentos d on d.id_usuario = u.id_usuario\n",
    "            join Pagos p on u.id_usuario = p.id_usuario;'''\n",
    "    cur.execute(sql)\n",
    "    datos = cur.fetchall()\n",
    "    columnas = [descripcion[0] for descripcion in cur.description]\n",
    "    cur.close()\n",
    "    conn.close()\n",
    "except Exception as ex:\n",
    "    print(f'Error: {ex}')\n",
    "else:\n",
    "    print('Cerrando sesión')"
   ]
  },
  {
   "cell_type": "code",
   "execution_count": 81,
   "metadata": {},
   "outputs": [],
   "source": [
    "df = pd.DataFrame(datos, columns=columnas)\n"
   ]
  },
  {
   "cell_type": "markdown",
   "metadata": {},
   "source": [
    "## Procesamiento datos"
   ]
  },
  {
   "cell_type": "code",
   "execution_count": 84,
   "metadata": {},
   "outputs": [],
   "source": [
    "meses_numeros = {'ENE': 1, 'FEB': 2, 'MAR': 3, 'ABR': 4, 'MAY': 5, 'JUN': 6, 'JUL': 7, 'AGO': 8, 'SEP': 9, 'OCT': 10, 'NOV': 11, 'DIC': 12}"
   ]
  },
  {
   "cell_type": "code",
   "execution_count": 112,
   "metadata": {},
   "outputs": [],
   "source": [
    "# Crear una nueva columna con los números de los meses para todos los registros\n",
    "df['mes_numero'] = df['mes_pago'].map(meses_numeros)"
   ]
  },
  {
   "cell_type": "code",
   "execution_count": 111,
   "metadata": {},
   "outputs": [],
   "source": [
    "# Crea un dataframe para ver el nombre de los usuarios y sus pagos segun los meses\n",
    "pivot_df = df.pivot_table(index='nombre', columns='mes_numero', values=['monto_pago', 'fecha_pago'], aggfunc={'monto_pago': 'sum', 'fecha_pago': 'first'})\n",
    "pivot_df.columns = pivot_df.columns.swaplevel()\n",
    "pivot_df = pivot_df.sort_index(axis=1)\n"
   ]
  },
  {
   "cell_type": "code",
   "execution_count": 69,
   "metadata": {},
   "outputs": [],
   "source": [
    "# Cambia los numeros por el mes\n",
    "iniciales_meses = list(map(lambda x: (next(key for key, value in meses_numeros.items() if value == x[0]), x[1]), pivot_df.columns))\n",
    "iniciales_meses = list(map(lambda x: (x[0],x[1].replace('fecha_pago', 'fecha')), iniciales_meses))\n",
    "iniciales_meses = list(map(lambda x: (x[0],x[1].replace('monto_pago', 'pago')), iniciales_meses))\n",
    "pivot_df.columns = pd.MultiIndex.from_tuples(iniciales_meses)"
   ]
  },
  {
   "cell_type": "code",
   "execution_count": 89,
   "metadata": {},
   "outputs": [
    {
     "data": {
      "text/html": [
       "<div>\n",
       "<style scoped>\n",
       "    .dataframe tbody tr th:only-of-type {\n",
       "        vertical-align: middle;\n",
       "    }\n",
       "\n",
       "    .dataframe tbody tr th {\n",
       "        vertical-align: top;\n",
       "    }\n",
       "\n",
       "    .dataframe thead tr th {\n",
       "        text-align: left;\n",
       "    }\n",
       "\n",
       "    .dataframe thead tr:last-of-type th {\n",
       "        text-align: right;\n",
       "    }\n",
       "</style>\n",
       "<table border=\"1\" class=\"dataframe\">\n",
       "  <thead>\n",
       "    <tr>\n",
       "      <th></th>\n",
       "      <th>ENE</th>\n",
       "    </tr>\n",
       "    <tr>\n",
       "      <th></th>\n",
       "      <th>fecha</th>\n",
       "    </tr>\n",
       "    <tr>\n",
       "      <th>nombre</th>\n",
       "      <th></th>\n",
       "    </tr>\n",
       "  </thead>\n",
       "  <tbody>\n",
       "    <tr>\n",
       "      <th>Anita Chicaiza</th>\n",
       "      <td>2024-01-10</td>\n",
       "    </tr>\n",
       "    <tr>\n",
       "      <th>Emma Simbaña</th>\n",
       "      <td>2024-01-08</td>\n",
       "    </tr>\n",
       "    <tr>\n",
       "      <th>Fernando Pichucho</th>\n",
       "      <td>2024-01-22</td>\n",
       "    </tr>\n",
       "    <tr>\n",
       "      <th>Jeremy mestanza</th>\n",
       "      <td>2024-01-23</td>\n",
       "    </tr>\n",
       "    <tr>\n",
       "      <th>Martha Lucia Barona</th>\n",
       "      <td>2024-02-19</td>\n",
       "    </tr>\n",
       "    <tr>\n",
       "      <th>Nestor Castro</th>\n",
       "      <td>2024-02-29</td>\n",
       "    </tr>\n",
       "  </tbody>\n",
       "</table>\n",
       "</div>"
      ],
      "text/plain": [
       "                            ENE\n",
       "                          fecha\n",
       "nombre                         \n",
       "Anita Chicaiza       2024-01-10\n",
       "Emma Simbaña         2024-01-08\n",
       "Fernando Pichucho    2024-01-22\n",
       "Jeremy mestanza      2024-01-23\n",
       "Martha Lucia Barona  2024-02-19\n",
       "Nestor Castro        2024-02-29"
      ]
     },
     "execution_count": 89,
     "metadata": {},
     "output_type": "execute_result"
    }
   ],
   "source": [
    "pivot_df[[('ENE', 'fecha')]]"
   ]
  },
  {
   "cell_type": "code",
   "execution_count": 110,
   "metadata": {},
   "outputs": [
    {
     "data": {
      "text/html": [
       "<div>\n",
       "<style scoped>\n",
       "    .dataframe tbody tr th:only-of-type {\n",
       "        vertical-align: middle;\n",
       "    }\n",
       "\n",
       "    .dataframe tbody tr th {\n",
       "        vertical-align: top;\n",
       "    }\n",
       "\n",
       "    .dataframe thead tr th {\n",
       "        text-align: left;\n",
       "    }\n",
       "\n",
       "    .dataframe thead tr:last-of-type th {\n",
       "        text-align: right;\n",
       "    }\n",
       "</style>\n",
       "<table border=\"1\" class=\"dataframe\">\n",
       "  <thead>\n",
       "    <tr>\n",
       "      <th></th>\n",
       "      <th>ENE</th>\n",
       "      <th>FEB</th>\n",
       "      <th>MAR</th>\n",
       "      <th>ABR</th>\n",
       "    </tr>\n",
       "    <tr>\n",
       "      <th></th>\n",
       "      <th>fecha</th>\n",
       "      <th>fecha</th>\n",
       "      <th>fecha</th>\n",
       "      <th>fecha</th>\n",
       "    </tr>\n",
       "    <tr>\n",
       "      <th>nombre</th>\n",
       "      <th></th>\n",
       "      <th></th>\n",
       "      <th></th>\n",
       "      <th></th>\n",
       "    </tr>\n",
       "  </thead>\n",
       "  <tbody>\n",
       "    <tr>\n",
       "      <th>Anita Chicaiza</th>\n",
       "      <td>2024-01-10</td>\n",
       "      <td>2024-02-14</td>\n",
       "      <td>2024-03-11</td>\n",
       "      <td>2024-04-07</td>\n",
       "    </tr>\n",
       "    <tr>\n",
       "      <th>Emma Simbaña</th>\n",
       "      <td>2024-01-08</td>\n",
       "      <td>2024-02-07</td>\n",
       "      <td>2024-03-08</td>\n",
       "      <td>2024-04-08</td>\n",
       "    </tr>\n",
       "    <tr>\n",
       "      <th>Fernando Pichucho</th>\n",
       "      <td>2024-01-22</td>\n",
       "      <td>2024-03-15</td>\n",
       "      <td>2024-03-30</td>\n",
       "      <td>NaN</td>\n",
       "    </tr>\n",
       "    <tr>\n",
       "      <th>Jeremy mestanza</th>\n",
       "      <td>2024-01-23</td>\n",
       "      <td>2024-02-26</td>\n",
       "      <td>2024-03-28</td>\n",
       "      <td>NaN</td>\n",
       "    </tr>\n",
       "    <tr>\n",
       "      <th>Martha Lucia Barona</th>\n",
       "      <td>2024-02-19</td>\n",
       "      <td>2024-02-26</td>\n",
       "      <td>2024-03-15</td>\n",
       "      <td>2024-04-06</td>\n",
       "    </tr>\n",
       "    <tr>\n",
       "      <th>Nestor Castro</th>\n",
       "      <td>2024-02-29</td>\n",
       "      <td>2024-02-29</td>\n",
       "      <td>NaN</td>\n",
       "      <td>NaN</td>\n",
       "    </tr>\n",
       "  </tbody>\n",
       "</table>\n",
       "</div>"
      ],
      "text/plain": [
       "                            ENE         FEB         MAR         ABR\n",
       "                          fecha       fecha       fecha       fecha\n",
       "nombre                                                             \n",
       "Anita Chicaiza       2024-01-10  2024-02-14  2024-03-11  2024-04-07\n",
       "Emma Simbaña         2024-01-08  2024-02-07  2024-03-08  2024-04-08\n",
       "Fernando Pichucho    2024-01-22  2024-03-15  2024-03-30         NaN\n",
       "Jeremy mestanza      2024-01-23  2024-02-26  2024-03-28         NaN\n",
       "Martha Lucia Barona  2024-02-19  2024-02-26  2024-03-15  2024-04-06\n",
       "Nestor Castro        2024-02-29  2024-02-29         NaN         NaN"
      ]
     },
     "execution_count": 110,
     "metadata": {},
     "output_type": "execute_result"
    }
   ],
   "source": [
    "pivot_df.iloc[:,pivot_df.columns.get_level_values(1) == 'fecha']"
   ]
  },
  {
   "cell_type": "code",
   "execution_count": null,
   "metadata": {},
   "outputs": [],
   "source": []
  },
  {
   "cell_type": "code",
   "execution_count": null,
   "metadata": {},
   "outputs": [],
   "source": []
  }
 ],
 "metadata": {
  "kernelspec": {
   "display_name": "venv",
   "language": "python",
   "name": "python3"
  },
  "language_info": {
   "codemirror_mode": {
    "name": "ipython",
    "version": 3
   },
   "file_extension": ".py",
   "mimetype": "text/x-python",
   "name": "python",
   "nbconvert_exporter": "python",
   "pygments_lexer": "ipython3",
   "version": "3.9.1"
  }
 },
 "nbformat": 4,
 "nbformat_minor": 2
}
