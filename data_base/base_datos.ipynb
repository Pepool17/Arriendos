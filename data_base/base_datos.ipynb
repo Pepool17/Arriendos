{
 "cells": [
  {
   "cell_type": "code",
   "execution_count": 1,
   "metadata": {},
   "outputs": [],
   "source": [
    "import pandas as pd\n",
    "import psycopg2\n",
    "import matplotlib.pyplot as plt"
   ]
  },
  {
   "cell_type": "markdown",
   "metadata": {},
   "source": [
    "## Cargar la base de datos"
   ]
  },
  {
   "cell_type": "code",
   "execution_count": 2,
   "metadata": {},
   "outputs": [
    {
     "name": "stdout",
     "output_type": "stream",
     "text": [
      "Conexión exitosa\n",
      "Cerrando sesión\n"
     ]
    }
   ],
   "source": [
    "try:\n",
    "    conn = psycopg2.connect(\n",
    "        host='localhost',\n",
    "        user='postgres',\n",
    "        password='root',\n",
    "        database='arriendos',\n",
    "        port='5432'\n",
    "    )  # type: ignore\n",
    "    print('Conexión exitosa')\n",
    "    cur = conn.cursor()\n",
    "    sql = '''select u.nombre, u.fecha_ingreso, u.precio_pactado, d.departamento, d.id_departamento, \n",
    "            p.mes_pago, p.year_pago, p.monto_pago, p.fecha_pago from usuarios u\n",
    "            join departamentos d on d.id_usuario = u.id_usuario\n",
    "            join Pagos p on u.id_usuario = p.id_usuario;'''\n",
    "    cur.execute(sql)\n",
    "    datos = cur.fetchall()\n",
    "    columnas = [descripcion[0] for descripcion in cur.description]\n",
    "    cur.close()\n",
    "    conn.close()\n",
    "except Exception as ex:\n",
    "    print(f'Error: {ex}')\n",
    "else:\n",
    "    print('Cerrando sesión')"
   ]
  },
  {
   "cell_type": "code",
   "execution_count": 3,
   "metadata": {},
   "outputs": [
    {
     "data": {
      "text/plain": [
       "Index(['nombre', 'fecha_ingreso', 'precio_pactado', 'departamento',\n",
       "       'id_departamento', 'mes_pago', 'year_pago', 'monto_pago', 'fecha_pago'],\n",
       "      dtype='object')"
      ]
     },
     "execution_count": 3,
     "metadata": {},
     "output_type": "execute_result"
    }
   ],
   "source": [
    "df = pd.DataFrame(datos, columns=columnas)\n",
    "df.columns\n"
   ]
  },
  {
   "cell_type": "markdown",
   "metadata": {},
   "source": [
    "## Procesamiento datos"
   ]
  },
  {
   "cell_type": "code",
   "execution_count": 4,
   "metadata": {},
   "outputs": [],
   "source": [
    "meses_numeros = {'ENE': 1, 'FEB': 2, 'MAR': 3, 'ABR': 4, 'MAY': 5, 'JUN': 6, 'JUL': 7, 'AGO': 8, 'SEP': 9, 'OCT': 10, 'NOV': 11, 'DIC': 12}"
   ]
  },
  {
   "cell_type": "code",
   "execution_count": 5,
   "metadata": {},
   "outputs": [
    {
     "data": {
      "text/html": [
       "<div>\n",
       "<style scoped>\n",
       "    .dataframe tbody tr th:only-of-type {\n",
       "        vertical-align: middle;\n",
       "    }\n",
       "\n",
       "    .dataframe tbody tr th {\n",
       "        vertical-align: top;\n",
       "    }\n",
       "\n",
       "    .dataframe thead tr th {\n",
       "        text-align: left;\n",
       "    }\n",
       "\n",
       "    .dataframe thead tr:last-of-type th {\n",
       "        text-align: right;\n",
       "    }\n",
       "</style>\n",
       "<table border=\"1\" class=\"dataframe\">\n",
       "  <thead>\n",
       "    <tr>\n",
       "      <th></th>\n",
       "      <th></th>\n",
       "      <th colspan=\"2\" halign=\"left\">ENE</th>\n",
       "      <th colspan=\"2\" halign=\"left\">FEB</th>\n",
       "      <th colspan=\"2\" halign=\"left\">MAR</th>\n",
       "      <th colspan=\"2\" halign=\"left\">ABR</th>\n",
       "    </tr>\n",
       "    <tr>\n",
       "      <th></th>\n",
       "      <th></th>\n",
       "      <th>fecha</th>\n",
       "      <th>pago</th>\n",
       "      <th>fecha</th>\n",
       "      <th>pago</th>\n",
       "      <th>fecha</th>\n",
       "      <th>pago</th>\n",
       "      <th>fecha</th>\n",
       "      <th>pago</th>\n",
       "    </tr>\n",
       "    <tr>\n",
       "      <th>nombre</th>\n",
       "      <th>departamento</th>\n",
       "      <th></th>\n",
       "      <th></th>\n",
       "      <th></th>\n",
       "      <th></th>\n",
       "      <th></th>\n",
       "      <th></th>\n",
       "      <th></th>\n",
       "      <th></th>\n",
       "    </tr>\n",
       "  </thead>\n",
       "  <tbody>\n",
       "    <tr>\n",
       "      <th>Anita Chicaiza</th>\n",
       "      <th>QUITO MEDIA AGUA</th>\n",
       "      <td>2024-01-10</td>\n",
       "      <td>140.00</td>\n",
       "      <td>2024-02-14</td>\n",
       "      <td>140.00</td>\n",
       "      <td>2024-03-11</td>\n",
       "      <td>140.00</td>\n",
       "      <td>2024-04-07</td>\n",
       "      <td>140.00</td>\n",
       "    </tr>\n",
       "    <tr>\n",
       "      <th>Emma Simbaña</th>\n",
       "      <th>AMBATO DEP2</th>\n",
       "      <td>2024-01-08</td>\n",
       "      <td>220.00</td>\n",
       "      <td>2024-02-07</td>\n",
       "      <td>220.00</td>\n",
       "      <td>2024-03-08</td>\n",
       "      <td>220.00</td>\n",
       "      <td>2024-04-08</td>\n",
       "      <td>220.00</td>\n",
       "    </tr>\n",
       "    <tr>\n",
       "      <th>Fernando Pichucho</th>\n",
       "      <th>AMBATO DEP1</th>\n",
       "      <td>2024-01-22</td>\n",
       "      <td>90.00</td>\n",
       "      <td>2024-03-15</td>\n",
       "      <td>230.00</td>\n",
       "      <td>2024-03-30</td>\n",
       "      <td>230.00</td>\n",
       "      <td>NaN</td>\n",
       "      <td>NaN</td>\n",
       "    </tr>\n",
       "    <tr>\n",
       "      <th>Jeremy mestanza</th>\n",
       "      <th>AMBATO LOCAL IME</th>\n",
       "      <td>2024-01-23</td>\n",
       "      <td>200.00</td>\n",
       "      <td>2024-02-26</td>\n",
       "      <td>200.00</td>\n",
       "      <td>2024-03-28</td>\n",
       "      <td>200.00</td>\n",
       "      <td>NaN</td>\n",
       "      <td>NaN</td>\n",
       "    </tr>\n",
       "    <tr>\n",
       "      <th>Martha Lucia Barona</th>\n",
       "      <th>QUITO CASA</th>\n",
       "      <td>2024-02-19</td>\n",
       "      <td>180.00</td>\n",
       "      <td>2024-02-26</td>\n",
       "      <td>200.00</td>\n",
       "      <td>2024-03-15</td>\n",
       "      <td>200.00</td>\n",
       "      <td>2024-04-06</td>\n",
       "      <td>120.00</td>\n",
       "    </tr>\n",
       "    <tr>\n",
       "      <th>Nestor Castro</th>\n",
       "      <th>LAGO AGRIO CASA</th>\n",
       "      <td>2024-02-29</td>\n",
       "      <td>200.00</td>\n",
       "      <td>2024-02-29</td>\n",
       "      <td>200.00</td>\n",
       "      <td>NaN</td>\n",
       "      <td>NaN</td>\n",
       "      <td>NaN</td>\n",
       "      <td>NaN</td>\n",
       "    </tr>\n",
       "  </tbody>\n",
       "</table>\n",
       "</div>"
      ],
      "text/plain": [
       "                                             ENE                 FEB          \\\n",
       "                                           fecha    pago       fecha    pago   \n",
       "nombre              departamento                                               \n",
       "Anita Chicaiza      QUITO MEDIA AGUA  2024-01-10  140.00  2024-02-14  140.00   \n",
       "Emma Simbaña        AMBATO DEP2       2024-01-08  220.00  2024-02-07  220.00   \n",
       "Fernando Pichucho   AMBATO DEP1       2024-01-22   90.00  2024-03-15  230.00   \n",
       "Jeremy mestanza     AMBATO LOCAL IME  2024-01-23  200.00  2024-02-26  200.00   \n",
       "Martha Lucia Barona QUITO CASA        2024-02-19  180.00  2024-02-26  200.00   \n",
       "Nestor Castro       LAGO AGRIO CASA   2024-02-29  200.00  2024-02-29  200.00   \n",
       "\n",
       "                                             MAR                 ABR          \n",
       "                                           fecha    pago       fecha    pago  \n",
       "nombre              departamento                                              \n",
       "Anita Chicaiza      QUITO MEDIA AGUA  2024-03-11  140.00  2024-04-07  140.00  \n",
       "Emma Simbaña        AMBATO DEP2       2024-03-08  220.00  2024-04-08  220.00  \n",
       "Fernando Pichucho   AMBATO DEP1       2024-03-30  230.00         NaN     NaN  \n",
       "Jeremy mestanza     AMBATO LOCAL IME  2024-03-28  200.00         NaN     NaN  \n",
       "Martha Lucia Barona QUITO CASA        2024-03-15  200.00  2024-04-06  120.00  \n",
       "Nestor Castro       LAGO AGRIO CASA          NaN     NaN         NaN     NaN  "
      ]
     },
     "execution_count": 5,
     "metadata": {},
     "output_type": "execute_result"
    }
   ],
   "source": [
    "# Crear una nueva columna con los números de los meses para todos los registros\n",
    "df['mes_numero'] = df['mes_pago'].map(meses_numeros)\n",
    "\n",
    "# Crea un dataframe para ver el nombre de los usuarios y sus pagos segun los meses\n",
    "pivot_df = df.pivot_table(index=['nombre', 'departamento'], columns='mes_numero', values=['monto_pago', 'fecha_pago'], aggfunc={'monto_pago': 'sum', 'fecha_pago': 'first'})\n",
    "pivot_df.columns = pivot_df.columns.swaplevel()\n",
    "pivot_df = pivot_df.sort_index(axis=1)\n",
    "\n",
    "# Cambia los numeros por el mes\n",
    "iniciales_meses = list(map(lambda x: (next(key for key, value in meses_numeros.items() if value == x[0]), x[1]), pivot_df.columns))\n",
    "iniciales_meses = list(map(lambda x: (x[0],x[1].replace('fecha_pago', 'fecha')), iniciales_meses))\n",
    "iniciales_meses = list(map(lambda x: (x[0],x[1].replace('monto_pago', 'pago')), iniciales_meses))\n",
    "pivot_df.columns = pd.MultiIndex.from_tuples(iniciales_meses)\n",
    "pivot_df"
   ]
  },
  {
   "cell_type": "code",
   "execution_count": 6,
   "metadata": {},
   "outputs": [],
   "source": [
    "#pivot_df.iloc[:,pivot_df.columns.get_level_values(1) == 'fecha']\n"
   ]
  },
  {
   "cell_type": "code",
   "execution_count": 7,
   "metadata": {},
   "outputs": [],
   "source": [
    "def deuda(mes='total'):\n",
    "    pd.options.mode.copy_on_write = True\n",
    "    if mes == 'total':\n",
    "        df_meses = df.copy()\n",
    "        meses = len(df_meses['mes_pago'].unique())\n",
    "        df_meses['monto_pago'] = df_meses.loc[:, 'monto_pago'].astype(float)\n",
    "        df_meses['precio_pactado'] = df_meses['precio_pactado'].astype(float)\n",
    "        df_meses = df_meses.pivot_table(index = 'nombre', values = ['monto_pago','precio_pactado'], aggfunc={'precio_pactado': 'first', 'monto_pago':'sum'})\n",
    "        df_meses['precio_pactado'] = df_meses['precio_pactado'].transform(lambda x: x*meses)\n",
    "        df_meses['deuda'] = df_meses['precio_pactado'] - df_meses['monto_pago']\n",
    "        return df_meses\n",
    "    \n",
    "    df_meses = df[df['mes_pago']== mes]\n",
    "    df_meses['monto_pago'] = df_meses.loc[:, 'monto_pago'].astype(float)\n",
    "    df_meses['precio_pactado'] = df_meses['precio_pactado'].astype(float)\n",
    "    df_meses = df_meses.pivot_table(index = 'nombre', values = ['monto_pago','precio_pactado'], aggfunc={'precio_pactado': 'first', 'monto_pago':'sum'})\n",
    "    df_meses['deuda'] = df_meses['precio_pactado'] - df_meses['monto_pago']\n",
    "    return df_meses\n"
   ]
  },
  {
   "cell_type": "code",
   "execution_count": 19,
   "metadata": {},
   "outputs": [],
   "source": [
    "def img_deuda(mes='total'):\n",
    "    df_meses = deuda(mes)\n",
    "    df_meses = df_meses[df_meses['deuda'] != 0]\n",
    "    ancho_maximo = max(df_meses['deuda'])\n",
    "    plt.figure(figsize=(10,4))\n",
    "    bars =plt.barh(df_meses.index,df_meses['deuda'], height=0.8)\n",
    "    plt.title('Deuda de cada arrendatario',fontsize=18, fontfamily='serif',  fontweight='bold')\n",
    "    plt.xlabel('Deuda en dólares',fontsize=10, fontfamily='serif')\n",
    "    for bar in bars:\n",
    "        ancho = bar.get_width()\n",
    "        plt.text(ancho+(ancho_maximo/30), bar.get_y()+bar.get_height() / 2, int(round(ancho, 1)), ha = 'center', fontsize = 13)\n",
    "    plt.xlim(0,ancho_maximo + (ancho_maximo/10))\n",
    "    plt.savefig(f'..\\imagenes\\img_deuda_{mes}.png', dpi = 300)\n",
    "    plt.close()\n",
    "\n",
    "    \n",
    "img_deuda()"
   ]
  },
  {
   "cell_type": "code",
   "execution_count": 20,
   "metadata": {},
   "outputs": [
    {
     "name": "stdout",
     "output_type": "stream",
     "text": [
      "DEUDA ENE\n"
     ]
    }
   ],
   "source": [
    "mes = 'ENE'\n",
    "titulo = [ 'DEUDA TOTAL' if mes=='total' else f'DEUDA {mes}']\n",
    "print(titulo[0])"
   ]
  },
  {
   "cell_type": "code",
   "execution_count": null,
   "metadata": {},
   "outputs": [],
   "source": []
  }
 ],
 "metadata": {
  "kernelspec": {
   "display_name": "venv",
   "language": "python",
   "name": "python3"
  },
  "language_info": {
   "codemirror_mode": {
    "name": "ipython",
    "version": 3
   },
   "file_extension": ".py",
   "mimetype": "text/x-python",
   "name": "python",
   "nbconvert_exporter": "python",
   "pygments_lexer": "ipython3",
   "version": "3.9.1"
  }
 },
 "nbformat": 4,
 "nbformat_minor": 2
}
